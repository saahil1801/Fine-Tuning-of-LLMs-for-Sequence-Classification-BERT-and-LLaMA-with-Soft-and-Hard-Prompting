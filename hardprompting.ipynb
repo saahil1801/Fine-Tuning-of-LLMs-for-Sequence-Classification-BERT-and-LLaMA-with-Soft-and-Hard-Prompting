{
 "cells": [
  {
   "cell_type": "code",
   "execution_count": 81,
   "metadata": {},
   "outputs": [],
   "source": [
    "import torch\n",
    "from transformers import BartTokenizer, BartForConditionalGeneration\n",
    "from datasets import load_dataset\n",
    "from sklearn.metrics import accuracy_score\n",
    "import sentencepiece\n",
    "from langchain_ollama import ChatOllama\n",
    "from langchain.schema import HumanMessage"
   ]
  },
  {
   "cell_type": "code",
   "execution_count": 75,
   "metadata": {},
   "outputs": [],
   "source": [
    "model = ChatOllama(model=\"llama3.1\", temperature=0.0,device='mps')"
   ]
  },
  {
   "cell_type": "code",
   "execution_count": 5,
   "metadata": {},
   "outputs": [],
   "source": [
    "dataset = load_dataset(\"glue\", \"mrpc\")"
   ]
  },
  {
   "cell_type": "code",
   "execution_count": 69,
   "metadata": {},
   "outputs": [],
   "source": [
    "def add_hard_prompts(sentence1, sentence2):\n",
    "    \"\"\"\n",
    "    This function adds a hard prompt to each input example\n",
    "    to make the task explicit to the model.\n",
    "    \"\"\"\n",
    "    prompt = f\"\"\"Paraphrase detection: Does the following pair of sentences mean the same thing? Sentence 1: \"{sentence1}\" Sentence 2: \"{sentence2}\". Reply with a single word answer: 'yes' if they mean the same thing, otherwise 'no'.\"\"\"\n",
    "    return prompt"
   ]
  },
  {
   "cell_type": "code",
   "execution_count": 71,
   "metadata": {},
   "outputs": [],
   "source": [
    "validation_prompts = [add_hard_prompts(sent1, sent2) for sent1, sent2 in zip(dataset[\"validation\"][\"sentence1\"], dataset[\"validation\"][\"sentence2\"])]"
   ]
  },
  {
   "cell_type": "code",
   "execution_count": 72,
   "metadata": {},
   "outputs": [],
   "source": [
    "out=[]"
   ]
  },
  {
   "cell_type": "code",
   "execution_count": 92,
   "metadata": {},
   "outputs": [],
   "source": [
    "def llama_inference(prompts, model):\n",
    "    \"\"\"\n",
    "    This function uses LLaMA 3.1 model for inference on hard-prompted inputs.\n",
    "    \"\"\"\n",
    "    predictions = []\n",
    "    for prompt in prompts:\n",
    "        # Convert prompt to HumanMessage\n",
    "        human_message = HumanMessage(content=prompt)\n",
    "        \n",
    "        # Query the LLaMA 3.1 model using __call__\n",
    "        response = model([human_message])\n",
    "\n",
    "        \n",
    "        # Extract the response text (response is already an AIMessage object)\n",
    "        prediction = response.content.strip().lower()\n",
    "        out.append(prediction)\n",
    "        # Convert textual output to binary labels\n",
    "        if \"yes\" in prediction:\n",
    "            predictions.append(1)  # Paraphrase\n",
    "        else:\n",
    "            predictions.append(0)  # Not a paraphrase\n",
    "            \n",
    "    return predictions\n"
   ]
  },
  {
   "cell_type": "code",
   "execution_count": 93,
   "metadata": {},
   "outputs": [],
   "source": [
    "predictions = llama_inference(validation_prompts, model)"
   ]
  },
  {
   "cell_type": "code",
   "execution_count": 126,
   "metadata": {},
   "outputs": [
    {
     "name": "stdout",
     "output_type": "stream",
     "text": [
      "Example Prompt and Prediction:\n",
      "Paraphrase detection: Does the following pair of sentences mean the same thing? Sentence 1: \"No dates have been set for the civil or the criminal trial .\" Sentence 2: \"No dates have been set for the criminal or civil cases , but Shanley has pleaded not guilty .\". Reply with a single word answer: 'yes' if they mean the same thing, otherwise 'no'.\n",
      "1\n",
      "yes.\n"
     ]
    }
   ],
   "source": [
    "print(\"Example Prompt and Prediction:\")\n",
    "print(validation_prompts[4])\n",
    "print(predictions[4])\n",
    "print(out[4])"
   ]
  },
  {
   "cell_type": "code",
   "execution_count": 127,
   "metadata": {},
   "outputs": [
    {
     "name": "stdout",
     "output_type": "stream",
     "text": [
      "Classification Report:\n",
      "              precision    recall  f1-score   support\n",
      "\n",
      "           0       0.61      0.43      0.51       129\n",
      "           1       0.77      0.87      0.82       279\n",
      "\n",
      "    accuracy                           0.73       408\n",
      "   macro avg       0.69      0.65      0.66       408\n",
      "weighted avg       0.72      0.73      0.72       408\n",
      "\n",
      "Validation Accuracy with Hard Prompts: 0.7328\n"
     ]
    }
   ],
   "source": [
    "from sklearn.metrics import classification_report, accuracy_score\n",
    "\n",
    "# Get true labels from the validation set\n",
    "true_labels = dataset[\"validation\"][\"label\"]\n",
    "\n",
    "# Print classification report\n",
    "print(\"Classification Report:\")\n",
    "print(classification_report(true_labels, predictions))\n",
    "\n",
    "# Print overall accuracy\n",
    "accuracy = accuracy_score(true_labels, predictions)\n",
    "print(f\"Validation Accuracy with Hard Prompts: {accuracy:.4f}\")\n"
   ]
  },
  {
   "cell_type": "code",
   "execution_count": null,
   "metadata": {},
   "outputs": [],
   "source": []
  }
 ],
 "metadata": {
  "kernelspec": {
   "display_name": "env",
   "language": "python",
   "name": "python3"
  },
  "language_info": {
   "codemirror_mode": {
    "name": "ipython",
    "version": 3
   },
   "file_extension": ".py",
   "mimetype": "text/x-python",
   "name": "python",
   "nbconvert_exporter": "python",
   "pygments_lexer": "ipython3",
   "version": "3.9.6"
  }
 },
 "nbformat": 4,
 "nbformat_minor": 2
}
